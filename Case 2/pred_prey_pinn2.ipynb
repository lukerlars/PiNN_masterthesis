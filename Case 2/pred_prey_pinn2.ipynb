{
 "cells": [
  {
   "cell_type": "code",
   "execution_count": 1,
   "metadata": {},
   "outputs": [],
   "source": [
    "import numpy as np\n",
    "from scipy.integrate import odeint\n",
    "import matplotlib.pyplot as plt\n",
    "\n",
    "import torch\n",
    "from torch.autograd import grad\n",
    "import torch.nn as nn\n",
    "from numpy import genfromtxt\n",
    "import torch.optim as optim\n",
    "import matplotlib.pyplot as plt\n",
    "import torch.nn.functional as F"
   ]
  },
  {
   "cell_type": "code",
   "execution_count": 2,
   "metadata": {},
   "outputs": [],
   "source": [
    "class Neural_net(torch.nn.Module):\n",
    "    def __init__(self, n_in = 1, n_out =1):\n",
    "        super(Neural_net, self).__init__()\n",
    "\n",
    "        self.tanh = torch.nn.Tanh()\n",
    "\n",
    "        self.layer1 = torch.nn.Linear(n_in,20)\n",
    "        self.layer2 = torch.nn.Linear(20,20)\n",
    "        self.layer3 = torch.nn.Linear(20,20)\n",
    "        self.layer_out = torch.nn.Linear(20,n_out)\n",
    "\n",
    "    def forward(self, x):\n",
    "        x = self.layer1(x)\n",
    "        x = self.tanh(x)\n",
    "        x = self.layer2(x)\n",
    "        x = self.tanh(x)\n",
    "        x = self.layer3(x)\n",
    "        x = self.tanh(x)\n",
    "        x = self.layer_out(x)\n",
    "\n",
    "        return x"
   ]
  },
  {
   "cell_type": "code",
   "execution_count": 17,
   "metadata": {},
   "outputs": [],
   "source": [
    "class predprey_pinn: \n",
    "\n",
    "    def __init__(self, epochs, data, c0):\n",
    "        self.epochs = epochs\n",
    "        self.model = Neural_net(n_out=2)\n",
    "        self.domain = torch.linspace(0,int(max(data[0])),100, requires_grad=True).reshape(-1,1)\n",
    "\n",
    "        self.lbfgs_optimizer = torch.optim.LBFGS(params = self.model.parameters(), lr = 0.001,max_iter = 500)\n",
    "        self.adam_optimizer = torch.optim.Adam(params = self.model.parameters(), lr = 0.0001)\n",
    "\n",
    "        self.alpha = 0.25\n",
    "        self.beta = 0.02\n",
    "        self.delta = 0.25\n",
    "        self.gamma = 2\n",
    "\n",
    "        self.t_dat = torch.tensor(data[0], dtype=torch.float).reshape(-1,1)\n",
    "        self.x_dat = torch.tensor(data[1],dtype=torch.float)\n",
    "        self.y_dat = torch.tensor(data[2], dtype=torch.float )\n",
    "\n",
    "        self.maxes = {}\n",
    "        self.mins = {}\n",
    "\n",
    "        for id,d in enumerate((self.x_dat, self.y_dat)):\n",
    "            self.maxes[id] = max(d)\n",
    "            self.mins[id] = min(d)\n",
    "\n",
    "        self.x_norm = self.normalize(0, self.x_dat)\n",
    "        self.y_norm = self.normalize(1, self.y_dat)\n",
    "\n",
    "        x0 = self.normalize(0,c0[0])\n",
    "        y0 = self.normalize(1,c0[1])\n",
    "        self.c0 = torch.tensor([x0,y0], dtype = torch.float)\n",
    "\n",
    "\n",
    "    def normalize(self, id, unnormed):\n",
    "        return (unnormed - self.mins[id])/(self.maxes[id]- self.mins[id])\n",
    "\n",
    "    def un_normalize(self, id, normed):\n",
    "        return normed*(self.maxes[id] -self.mins[id])+ self.mins[id]\n",
    "\n",
    "        \n",
    "    def wrap_grad(self, f,x):\n",
    "        return torch.autograd.grad(f,x,\n",
    "        grad_outputs=torch.ones_like(x),\n",
    "        retain_graph=True,\n",
    "        create_graph=True)[0]\n",
    "\n",
    "    def de_loss(self):\n",
    "        pred = self.model(self.domain)\n",
    "        x,y = (d.reshape(-1,1) for d in torch.unbind(pred, dim =1))\n",
    "        \n",
    "        dx = self.wrap_grad(x, self.domain)\n",
    "        dy = self.wrap_grad(y, self.domain)\n",
    "\n",
    "        x = self.un_normalize(0,x)\n",
    "        y = self.un_normalize(1,y)\n",
    "\n",
    "        ls0 = torch.mean((dx - (self.alpha*x -self.beta*x*y)/(self.maxes[0]-self.mins[0]) )**2)\n",
    "        ls1 = torch.mean((dy -(self.delta*x*y - y*self.gamma)/(self.maxes[1]-self.mins[1]))**2)\n",
    "        ic = torch.mean((self.c0-pred[0])**2)\n",
    "        \n",
    "        return ls0 + ls1 + ic\n",
    "    \n",
    "    def data_loss(self):\n",
    "        x,y = torch.unbind(self.model(self.t_dat), dim = 1)\n",
    "        z1 = torch.mean((x - self.x_norm)**2)\n",
    "        z2 = torch.mean((y- self.y_norm)**2)\n",
    "        return z1 + z2\n",
    "\n",
    "\n",
    "\n",
    "    def combined_loss(self):\n",
    "        return self.de_loss() + self.data_loss()\n",
    "    \n",
    "    \n",
    "    def plot_preds(self):\n",
    "        x,y = torch.unbind(self.model(self.domain), dim = 1)\n",
    "        x = self.un_normalize(0,x)\n",
    "        y = self.un_normalize(1,y)\n",
    "        plt.plot(self.domain.detach(), x.detach(), label = 'x pred')\n",
    "        plt.plot(self.domain.detach(), y.detach(), label = 'y pred')\n",
    "\n",
    "        plt.scatter(self.t_dat.detach(), self.x_dat, label = 'x data')\n",
    "        plt.scatter(self.t_dat.detach(),self.y_dat, label = 'y data' )\n",
    "        plt.legend()\n",
    "       \n",
    "\n",
    "\n",
    "    def lbfgs_train(self):\n",
    "                self.model.train()    \n",
    "                for epoch in range(self.epochs):\n",
    "                    def closure():\n",
    "                        self.lbfgs_optimizer.zero_grad()\n",
    "                        loss = self.combined_loss()\n",
    "                        loss.backward()\n",
    "                        return loss\n",
    "                    self.lbfgs_optimizer.step(closure=closure)\n",
    "                    print(f'Epoch {epoch}, loss: {self.combined_loss()}, beta_param: {self.beta}, gamma_param: {self.gamma}')\n",
    "                self.plot_preds()\n",
    "            \n",
    "        \n",
    "\n",
    "    def adam_train(self):\n",
    "            steps = 1000\n",
    "            self.model.train()\n",
    "            for epoch in range(self.epochs):\n",
    "                for step in range(steps):\n",
    "                    def closure():\n",
    "                        self.adam_optimizer.zero_grad()\n",
    "                        loss = self.combined_loss()\n",
    "                        loss.backward()\n",
    "                        return loss\n",
    "                    self.adam_optimizer.step(closure=closure)\n",
    "                print(f'Epoch {epoch}, loss: {self.combined_loss()}, beta_param: {self.beta}, gamma_param: {self.gamma}')\n",
    "            self.plot_preds()\n",
    "\n"
   ]
  },
  {
   "cell_type": "code",
   "execution_count": 14,
   "metadata": {},
   "outputs": [
    {
     "data": {
      "image/png": "[encoded data removed]",
      "text/plain": [
       "<Figure size 432x288 with 1 Axes>"
      ]
     },
     "metadata": {
      "needs_background": "light"
     },
     "output_type": "display_data"
    }
   ],
   "source": [
    "alpha = 0.25\n",
    "beta = 0.02\n",
    "delta = 0.25\n",
    "gamma = 2\n",
    "\n",
    "\n",
    "def pp_ode(state, t):\n",
    "    x,y = state\n",
    "    dx = alpha*x -beta*x*y\n",
    "    dy = delta*x*y - y*gamma\n",
    "    return [dx, dy]\n",
    "\n",
    "t = np.linspace(0,40,100)\n",
    "sol = odeint(pp_ode,y0 =[10,5], t=t)\n",
    "\n",
    "plt.plot(t, sol[:,0])\n",
    "plt.plot(t, sol[:,1])\n",
    "\n",
    "inp_dat = np.array([t, sol[:,0], sol[:,1]])"
   ]
  },
  {
   "cell_type": "code",
   "execution_count": 18,
   "metadata": {},
   "outputs": [],
   "source": [
    "test_inst = predprey_pinn(epochs=10, data= inp_dat, c0 =[10,5])"
   ]
  },
  {
   "cell_type": "code",
   "execution_count": 11,
   "metadata": {},
   "outputs": [
    {
     "data": {
      "text/plain": [
       "(3, 100)"
      ]
     },
     "execution_count": 11,
     "metadata": {},
     "output_type": "execute_result"
    }
   ],
   "source": [
    "inp_dat.shape"
   ]
  },
  {
   "cell_type": "markdown",
   "metadata": {},
   "source": [
    "Running adam train once:"
   ]
  },
  {
   "cell_type": "code",
   "execution_count": 19,
   "metadata": {},
   "outputs": [
    {
     "name": "stdout",
     "output_type": "stream",
     "text": [
      "Epoch 0, loss: 0.23603315651416779, beta_param: 0.02, gamma_param: 2\n",
      "Epoch 1, loss: 0.2267903834581375, beta_param: 0.02, gamma_param: 2\n",
      "Epoch 2, loss: 0.2195354700088501, beta_param: 0.02, gamma_param: 2\n",
      "Epoch 3, loss: 0.2114081084728241, beta_param: 0.02, gamma_param: 2\n",
      "Epoch 4, loss: 0.20379692316055298, beta_param: 0.02, gamma_param: 2\n",
      "Epoch 5, loss: 0.19838380813598633, beta_param: 0.02, gamma_param: 2\n",
      "Epoch 6, loss: 0.19548077881336212, beta_param: 0.02, gamma_param: 2\n",
      "Epoch 7, loss: 0.19437432289123535, beta_param: 0.02, gamma_param: 2\n",
      "Epoch 8, loss: 0.1907251477241516, beta_param: 0.02, gamma_param: 2\n",
      "Epoch 9, loss: 0.1887803077697754, beta_param: 0.02, gamma_param: 2\n"
     ]
    },
    {
     "data": {
      "image/png": "[encoded data removed]",
      "text/plain": [
       "<Figure size 432x288 with 1 Axes>"
      ]
     },
     "metadata": {
      "needs_background": "light"
     },
     "output_type": "display_data"
    }
   ],
   "source": [
    "test_inst.adam_train()"
   ]
  },
  {
   "cell_type": "markdown",
   "metadata": {},
   "source": [
    "After several runs"
   ]
  },
  {
   "cell_type": "code",
   "execution_count": 8,
   "metadata": {},
   "outputs": [
    {
     "name": "stdout",
     "output_type": "stream",
     "text": [
      "Epoch 0, loss: 0.0005453241756185889, beta_param: 0.02, gamma_param: 2\n",
      "Epoch 1, loss: 0.0001740516017889604, beta_param: 0.02, gamma_param: 2\n",
      "Epoch 2, loss: 7.50718972994946e-05, beta_param: 0.02, gamma_param: 2\n",
      "Epoch 3, loss: 5.512431380338967e-05, beta_param: 0.02, gamma_param: 2\n",
      "Epoch 4, loss: 4.5014898205408826e-05, beta_param: 0.02, gamma_param: 2\n",
      "Epoch 5, loss: 3.80473502445966e-05, beta_param: 0.02, gamma_param: 2\n",
      "Epoch 6, loss: 3.25711807818152e-05, beta_param: 0.02, gamma_param: 2\n",
      "Epoch 7, loss: 2.981994293804746e-05, beta_param: 0.02, gamma_param: 2\n",
      "Epoch 8, loss: 2.495665285096038e-05, beta_param: 0.02, gamma_param: 2\n",
      "Epoch 9, loss: 2.4334365662070923e-05, beta_param: 0.02, gamma_param: 2\n"
     ]
    },
    {
     "data": {
      "image/png": "[encoded data removed]",
      "text/plain": [
       "<Figure size 432x288 with 1 Axes>"
      ]
     },
     "metadata": {
      "needs_background": "light"
     },
     "output_type": "display_data"
    }
   ],
   "source": [
    "test_inst.adam_train()"
   ]
  },
  {
   "cell_type": "markdown",
   "metadata": {},
   "source": [
    "Note: This converges much slower than just running on the data"
   ]
  },
  {
   "cell_type": "markdown",
   "metadata": {},
   "source": [
    "Test with fewer datapoints:\n"
   ]
  },
  {
   "cell_type": "code",
   "execution_count": 17,
   "metadata": {},
   "outputs": [],
   "source": [
    "ids = np.random.choice(range(inp_dat.shape[1]), size = 10)\n",
    "sample_data = inp_dat[:,ids]"
   ]
  },
  {
   "cell_type": "code",
   "execution_count": 18,
   "metadata": {},
   "outputs": [],
   "source": [
    "test_inst2 = predprey_pinn(epochs=10, data = sample_data, c0 =[10,5])\n"
   ]
  },
  {
   "cell_type": "code",
   "execution_count": 22,
   "metadata": {},
   "outputs": [
    {
     "name": "stdout",
     "output_type": "stream",
     "text": [
      "Epoch 0, loss: 1.4953633353798068e-06, beta_param: 0.02, gamma_param: 2\n",
      "Epoch 1, loss: 1.4808708783675684e-06, beta_param: 0.02, gamma_param: 2\n",
      "Epoch 2, loss: 8.252820407506078e-06, beta_param: 0.02, gamma_param: 2\n",
      "Epoch 3, loss: 1.4049605852051172e-06, beta_param: 0.02, gamma_param: 2\n",
      "Epoch 4, loss: 1.4179156551108463e-06, beta_param: 0.02, gamma_param: 2\n",
      "Epoch 5, loss: 3.3056655865948414e-06, beta_param: 0.02, gamma_param: 2\n",
      "Epoch 6, loss: 1.3165924883651314e-06, beta_param: 0.02, gamma_param: 2\n",
      "Epoch 7, loss: 1.2926308272653841e-06, beta_param: 0.02, gamma_param: 2\n",
      "Epoch 8, loss: 1.2641256716960925e-06, beta_param: 0.02, gamma_param: 2\n",
      "Epoch 9, loss: 1.3426794112092466e-06, beta_param: 0.02, gamma_param: 2\n"
     ]
    },
    {
     "data": {
      "image/png": "[encoded data removed]",
      "text/plain": [
       "<Figure size 432x288 with 1 Axes>"
      ]
     },
     "metadata": {
      "needs_background": "light"
     },
     "output_type": "display_data"
    }
   ],
   "source": [
    "test_inst2.adam_train()"
   ]
  },
  {
   "cell_type": "code",
   "execution_count": 23,
   "metadata": {},
   "outputs": [],
   "source": [
    "class Duo_net(torch.nn.Module):\n",
    "    def __init__(self, n_in = 1, n_out =1):\n",
    "        super(Duo_net, self).__init__()\n",
    "\n",
    "        self.tanh = torch.nn.Tanh()\n",
    "\n",
    "        self.layer10 = torch.nn.Linear(n_in,20)\n",
    "        self.layer11 = torch.nn.Linear(n_in,20)\n",
    "\n",
    "        self.layer20 = torch.nn.Linear(20,20)\n",
    "        self.layer21 = torch.nn.Linear(20,20)\n",
    "\n",
    "        self.layer_out0 = torch.nn.Linear(20,n_out)\n",
    "        self.layer_out1 = torch.nn.Linear(20,n_out)\n",
    "\n",
    "    def forward(self, x):\n",
    "        x0 = self.layer10(x)\n",
    "        x0 = self.tanh(x0)\n",
    "        x0 = self.layer20(x0)\n",
    "        x0 = self.tanh(x0)\n",
    "        x0 = self.layer_out0(x0)\n",
    "\n",
    "        x1 = self.layer11(x)\n",
    "        x1 = self.tanh(x1)\n",
    "        x1 = self.layer20(x1)\n",
    "        x1 = self.tanh(x1)\n",
    "        x1 = self.layer_out0(x1)\n",
    "\n",
    "        return x0, x1"
   ]
  },
  {
   "cell_type": "code",
   "execution_count": 25,
   "metadata": {},
   "outputs": [],
   "source": [
    "class rk_pp_pinn:\n",
    "    \"\"\" Instance of Runge kutta scheme PINN\n",
    "    for predator prey model\n",
    "    \"\"\"\n",
    "\n",
    "    def __init__(self, dt, xdata,t_dat, q = 100):\n",
    "        self.model = Duo_net(n_in=2,n_out=q+1)\n",
    "        self.adam_optimizer = torch.optim.Adam(params = self.model.parameters(), lr = 0.001)\n",
    "        butcher_file = np.float32(np.loadtxt('Butcher_IRK100.txt', ndmin = 2))\n",
    "\n",
    "        self.IRK_weights = torch.Tensor(np.reshape(butcher_file[0:q**2+q], (q+1,q)))\n",
    "        self.IRK_times = torch.Tensor(butcher_file[q**2+q:])\n",
    "\n",
    "        x0s,x1s = xdata \n",
    "        self.x0s = torch.Tensor(x0s)\n",
    "        self.x1s = torch.Tensor(x1s)\n",
    "        self.t_dat = t_dat\n",
    "        self.dt = dt\n",
    "        self.epochs = 10\n",
    "        \n",
    "        self.alpha = 0.25\n",
    "        self.beta = 0.02\n",
    "        self.delta = 0.25\n",
    "        self.gamma = 2\n",
    "    \n",
    "    def wrap_grad(self, f,x):\n",
    "            return torch.autograd.grad(f,x,\n",
    "            grad_outputs=torch.ones_like(x),\n",
    "            retain_graph=True,\n",
    "            create_graph=True)[0]\n",
    "    \n",
    "    def test(self):\n",
    "        x,y = self.model(self.x0s)\n",
    "        print(x.shape)\n",
    "        \n",
    "\n",
    "\n",
    "    def loss(self):\n",
    "        x1, y1 = self.model(self.x1s)\n",
    "        x = x1[:,:-1]\n",
    "        y = y1[:,:-1]\n",
    "\n",
    "    \n",
    "        F0 = self.alpha*x -self.beta*x*y\n",
    "        F1 = self.delta*x*y -y*self.gamma\n",
    "        \n",
    "        x0 = x1 - self.dt*torch.matmul(F0,self.IRK_weights.T)\n",
    "        y0 = y1 - self.dt*torch.matmul(F1,self.IRK_weights.T)\n",
    "        \n",
    "        l0 = torch.mean((self.x0s[:,0].reshape(-1,1) - x0)**2)\n",
    "        l1 = torch.mean((self.x0s[:,1].reshape(-1,1) - y0)**2)\n",
    "\n",
    "        return l0 + l1\n",
    "\n",
    "    \n",
    "    def plot_preds(self):\n",
    "        xs, ys = self.model(self.x1s)\n",
    "        # plt.scatter(self.x0s[:,0].detach() , xs[:,-1].detach(), label = 'x_pred')\n",
    "        # plt.scatter(self.x0s[:,1].detach() , ys[:,-1].detach(), label = 'y_pred')\n",
    "        plt.scatter(self.t_dat, xs[:,-1].detach(), label = 'x_pred' )\n",
    "        plt.scatter(self.t_dat, ys[:,-1].detach(), label = 'y_pred' )\n",
    "        plt.legend()\n",
    "\n",
    "        \n",
    "    \n",
    "    def adam_train(self):\n",
    "            steps = 1000\n",
    "            self.model.train()\n",
    "            for epoch in range(self.epochs):\n",
    "                for step in range(steps):\n",
    "                    def closure():\n",
    "                        self.adam_optimizer.zero_grad()\n",
    "                        loss = self.loss()\n",
    "                        loss.backward()\n",
    "                        return loss\n",
    "                    self.adam_optimizer.step(closure=closure)\n",
    "                print(f'Epoch {epoch}, loss: {self.loss()}, beta_param: {self.beta}, gamma_param: {self.gamma}')\n",
    "            self.plot_preds()\n",
    "\n"
   ]
  },
  {
   "cell_type": "markdown",
   "metadata": {},
   "source": [
    "Copying the data generation code again"
   ]
  },
  {
   "cell_type": "code",
   "execution_count": 48,
   "metadata": {},
   "outputs": [],
   "source": [
    "alpha = 0.25\n",
    "beta = 0.02\n",
    "delta = 0.25\n",
    "gamma = 2\n",
    "\n",
    "N = 200\n",
    "\n",
    "def pp_ode(state, t):\n",
    "    x,y = state\n",
    "    dx = alpha*x -beta*x*y\n",
    "    dy = delta*x*y - y*gamma\n",
    "    return [dx, dy]\n",
    "\n",
    "t = np.linspace(0,40,10000)\n",
    "sol = odeint(pp_ode,y0 =[10,5], t=t)\n",
    "data_rk = np.array([sol[:,0], sol[:,1]]).T\n",
    "\n",
    "# idx_t0 = 20\n",
    "# idx_t1 = 180\n",
    "# dt = t[idx_t1] - t[idx_t0]\n",
    "\n",
    "d_id = 1000\n",
    "ids0 = np.random.choice(len(t)-d_id, N)\n",
    "ids1 = ids0 + d_id\n",
    "\n",
    "dt = t[ids1[0]] - t[ids0[0]]\n",
    "t0s = t[ids0]\n",
    "#t1s = t[ids1]\n",
    "\n",
    "x1s = data_rk[ids1]\n",
    "x0s = data_rk[ids0]\n",
    "rk_samples = [x0s,x1s]\n"
   ]
  },
  {
   "cell_type": "code",
   "execution_count": 49,
   "metadata": {},
   "outputs": [],
   "source": [
    "rk_test = rk_pp_pinn(dt, rk_samples, t_dat=t0s, q = 100)"
   ]
  },
  {
   "cell_type": "code",
   "execution_count": 55,
   "metadata": {},
   "outputs": [
    {
     "name": "stdout",
     "output_type": "stream",
     "text": [
      "Epoch 0, loss: 0.0422130711376667, beta_param: 0.02, gamma_param: 2\n",
      "Epoch 1, loss: 0.038544364273548126, beta_param: 0.02, gamma_param: 2\n",
      "Epoch 2, loss: 0.04269007220864296, beta_param: 0.02, gamma_param: 2\n",
      "Epoch 3, loss: 0.10343065857887268, beta_param: 0.02, gamma_param: 2\n",
      "Epoch 4, loss: 0.0331563726067543, beta_param: 0.02, gamma_param: 2\n",
      "Epoch 5, loss: 0.032884035259485245, beta_param: 0.02, gamma_param: 2\n",
      "Epoch 6, loss: 0.03010696917772293, beta_param: 0.02, gamma_param: 2\n",
      "Epoch 7, loss: 0.028697315603494644, beta_param: 0.02, gamma_param: 2\n",
      "Epoch 8, loss: 0.027399497106671333, beta_param: 0.02, gamma_param: 2\n",
      "Epoch 9, loss: 0.026172582060098648, beta_param: 0.02, gamma_param: 2\n"
     ]
    },
    {
     "data": {
      "image/png": "[encoded data removed]",
      "text/plain": [
       "<Figure size 432x288 with 1 Axes>"
      ]
     },
     "metadata": {
      "needs_background": "light"
     },
     "output_type": "display_data"
    }
   ],
   "source": [
    "rk_test.adam_train()"
   ]
  },
  {
   "cell_type": "code",
   "execution_count": null,
   "metadata": {},
   "outputs": [],
   "source": []
  },
  {
   "cell_type": "code",
   "execution_count": 52,
   "metadata": {},
   "outputs": [
    {
     "data": {
      "text/plain": [
       "4.000400040004003"
      ]
     },
     "execution_count": 52,
     "metadata": {},
     "output_type": "execute_result"
    }
   ],
   "source": [
    "dt"
   ]
  },
  {
   "cell_type": "code",
   "execution_count": null,
   "metadata": {},
   "outputs": [],
   "source": []
  }
 ],
 "metadata": {
  "interpreter": {
   "hash": "f156400fa5bf62ecf9eae4d0e9a2b9bd51e0e8b2d2eed7985594abe1521fe027"
  },
  "kernelspec": {
   "display_name": "Python 3.10.3 64-bit ('torchenv': conda)",
   "language": "python",
   "name": "python3"
  },
  "language_info": {
   "codemirror_mode": {
    "name": "ipython",
    "version": 3
   },
   "file_extension": ".py",
   "mimetype": "text/x-python",
   "name": "python",
   "nbconvert_exporter": "python",
   "pygments_lexer": "ipython3",
   "version": "3.10.3"
  },
  "orig_nbformat": 4
 },
 "nbformat": 4,
 "nbformat_minor": 2
}
