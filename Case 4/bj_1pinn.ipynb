{
 "cells": [
  {
   "cell_type": "markdown",
   "metadata": {},
   "source": [
    "### Notebook for case-problem 4 strategy 2"
   ]
  },
  {
   "cell_type": "code",
   "execution_count": null,
   "metadata": {},
   "outputs": [],
   "source": [
    "import torch\n",
    "import matplotlib.pyplot as plt\n",
    "import numpy as np\n",
    "from scipy.optimize import curve_fit\n",
    "from scipy.special import gamma"
   ]
  },
  {
   "cell_type": "code",
   "execution_count": null,
   "metadata": {},
   "outputs": [],
   "source": [
    "HU=31.74\n",
    "\n",
    "patient1 = # Hidden \n",
    "patient2 = # Hidden\n",
    "patient3 = # Hidden\n",
    "patient4 = # Hidden\n",
    "patient5 = # Hidden \n",
    "patient6 = # Hidden "
   ]
  },
  {
   "cell_type": "code",
   "execution_count": null,
   "metadata": {},
   "outputs": [],
   "source": [
    "p1_sim = np.genfromtxt('Data/blood_generated/p1q4218.69', delimiter=',')\n",
    "p2_sim = np.genfromtxt('Data/blood_generated/p2q3513.35', delimiter=',')\n",
    "p3_sim = np.genfromtxt('Data/blood_generated/p3q4310.52', delimiter=',')\n",
    "p4_sim = np.genfromtxt('Data/blood_generated/p4q4510.85', delimiter=',')\n",
    "p5_sim = np.genfromtxt('Data/blood_generated/p5q3104.34', delimiter=',')\n",
    "p6_sim = np.genfromtxt('Data/blood_generated/p6q3905.67', delimiter=',')"
   ]
  },
  {
   "cell_type": "code",
   "execution_count": null,
   "metadata": {},
   "outputs": [],
   "source": [
    "vref1 = # Hidden\n",
    "vref2 = # Hidden\n",
    "vref3 = # Hidden\n",
    "vref4 = # Hidden\n",
    "vref5 = # Hidden \n",
    "vref6 = # Hidden"
   ]
  },
  {
   "cell_type": "code",
   "execution_count": null,
   "metadata": {},
   "outputs": [],
   "source": [
    "qref1 = # Hidden \n",
    "qref2 = # Hidden \n",
    "qref3 = # Hidden \n",
    "qref4 = # Hidden \n",
    "qref5 = # Hidden  \n",
    "qref6 = # Hidden "
   ]
  },
  {
   "cell_type": "code",
   "execution_count": null,
   "metadata": {},
   "outputs": [],
   "source": [
    "\n",
    "\n"
   ]
  },
  {
   "cell_type": "code",
   "execution_count": null,
   "metadata": {},
   "outputs": [],
   "source": [
    "class Neural_net(torch.nn.Module):\n",
    "    def __init__(self, n_in = 1, n_out =1):\n",
    "        super(Neural_net, self).__init__()\n",
    "\n",
    "        self.tanh = torch.nn.Tanh()\n",
    "\n",
    "        self.layer1 = torch.nn.Linear(n_in,20)\n",
    "        self.layer2 = torch.nn.Linear(20,20)\n",
    "        self.layer3 = torch.nn.Linear(20,20)\n",
    "        self.layer_out = torch.nn.Linear(20,n_out)\n",
    "\n",
    "    def forward(self, x):\n",
    "        x = self.layer1(x)\n",
    "        x = self.tanh(x)\n",
    "        x = self.layer2(x)\n",
    "        x = self.tanh(x)\n",
    "        x = self.layer3(x)\n",
    "        x = self.tanh(x)\n",
    "        x = self.layer_out(x)\n",
    "\n",
    "        return x"
   ]
  },
  {
   "cell_type": "code",
   "execution_count": null,
   "metadata": {},
   "outputs": [],
   "source": [
    "class blood_1pinn:\n",
    "    def __init__(self, epochs, data, nde, params = {}, gamma = None):\n",
    "        self.epochs = epochs\n",
    "        self.model = Neural_net(n_out=1)\n",
    "        self.domain = torch.linspace(0,100, nde, requires_grad=True).reshape(-1,1)\n",
    "        \n",
    "        ###  scaling params\n",
    "        self.params_unconstr ={}\n",
    "        for prm, init in params.items():\n",
    "            self.params_unconstr[prm] = torch.nn.Parameter(torch.tensor([init]))\n",
    "            self.model.register_parameter(name=prm, param = self.params_unconstr[prm])\n",
    "        \n",
    "        self.const = torch.tensor([1.], dtype = torch.float)\n",
    "            \n",
    "\n",
    "        #optimizers\n",
    "        self.lbfgs_optimizer = torch.optim.LBFGS(params = self.model.parameters(), lr = 0.001,max_iter = 500)\n",
    "        self.adam_optimizer = torch.optim.Adam(params = self.model.parameters(), lr = 0.001)\n",
    "\n",
    "        \n",
    "        patient_data, sim_data, vref ,qref  = data\n",
    "\n",
    "        self.vref = vref\n",
    "        self.qc =self.m_inj(np.linspace(0,100,nde))\n",
    "        self.Q_ref = torch.tensor(qref, dtype=torch.float, requires_grad=False).reshape(-1,1)\n",
    "\n",
    "        #### Data        \n",
    "\n",
    "        if gamma: ## Using a gamma variate fit of data at end-compartment instead of pure data-points\n",
    "            popt, pcov = curve_fit(self.scaled_gamma, patient_data[0], patient_data[1], bounds = ((1000,1,1),(10000,10,10)))\n",
    "            self.c_patient = torch.tensor(self.scaled_gamma(np.linspace(0,100,100),popt[0],popt[1], popt[2]), dtype=torch.float).reshape(-1,1)\n",
    "            self.t_patient = torch.linspace(0,100,100).reshape(-1,1) \n",
    "\n",
    "        else:\n",
    "            self.c_patient = torch.tensor(patient_data[1], dtype = torch.float).reshape(-1,1)\n",
    "            self.t_patient = torch.tensor(patient_data[0], dtype=torch.float).reshape(-1,1) \n",
    "\n",
    "\n",
    "\n",
    "\n",
    "        sample_ids = np.arange(start=0, stop=len(sim_data[7]), step=len(sim_data[7])//nde)\n",
    "        self.c7 = torch.tensor(sim_data[7][sample_ids], dtype=torch.float).reshape(-1,1)\n",
    "        \n",
    "        self.patient_data = patient_data\n",
    "        \n",
    "        self.cp_max = max(self.c_patient)\n",
    "        self.cp_min = min(self.c_patient)\n",
    "        self.c_patient_norm = (self.c_patient - self.cp_min)/(self.cp_max-self.cp_min) \n",
    "\n",
    "\n",
    "    #Constrain parameters to be in range\n",
    "\n",
    "    @property\n",
    "    def sq_param(self):\n",
    "        if 'sq' in self.params_unconstr:\n",
    "            return self.params_unconstr['sq']\n",
    "        else:\n",
    "            return self.const\n",
    "    \n",
    "    @property\n",
    "    def sv_param(self):\n",
    "        if 'sv' in self.params_unconstr:\n",
    "            return self.params_unconstr['sv']\n",
    "        else:\n",
    "            return self.const\n",
    "    \n",
    "    @property\n",
    "    def sc_param(self):\n",
    "        if 'sc' in self.params_unconstr:\n",
    "            return self.params_unconstr['sc']\n",
    "        else:\n",
    "            return self.const\n",
    "    \n",
    "\n",
    "    #------------- Gamma variate \n",
    "    def scaled_gamma(self, x,c, k, theta):\n",
    "            frac = 1/(gamma(k)*theta**(k))\n",
    "            return c*frac*x**(k-1)*np.exp(-(x/theta))\n",
    "\n",
    "    # ------------\n",
    "    def m_inj(self,t,ti=[0,3.33,3.33,6.67,6.67],qi=[6,6,6,6,0],ci=[350,350,0,0,0]):\n",
    "        ti=np.array(ti)\n",
    "        qi=np.array(qi)\n",
    "        # ci=np.array(ci)\n",
    "        # m = qi*ci\n",
    "        return torch.tensor(np.interp(t,ti,qi),dtype = torch.float)\n",
    "\n",
    "\n",
    "    def wrap_grad(self, f,x):\n",
    "        return torch.autograd.grad(f,x,\n",
    "        grad_outputs=torch.ones_like(x),\n",
    "        retain_graph=True,\n",
    "        create_graph=True)[0]\n",
    "        \n",
    "\n",
    "    def de_loss(self):\n",
    "        c_pred = self.model(self.domain)\n",
    "\n",
    "        c =c_pred*(self.cp_max - self.cp_min) + self.cp_min\n",
    "        dup = self.wrap_grad(c_pred, self.domain)\n",
    "\n",
    "        norm_fac = (self.cp_max -self.cp_min)\n",
    "\n",
    "        Q = self.qc + self.Q_ref*self.sq_param\n",
    "        c7 = self.c7*self.sc_param\n",
    "\n",
    "        z = dup -(Q*c7-Q*c)/(self.vref*self.sv_param*norm_fac)\n",
    "        return torch.mean(z**2) + c_pred[0]**2\n",
    "\n",
    "\n",
    "    def data_loss(self):\n",
    "        u7_pred = self.model(self.t_patient)\n",
    "        return torch.mean((u7_pred - self.c_patient_norm)**2)\n",
    "    \n",
    "\n",
    "    def combined_loss(self):\n",
    "        return self.data_loss() #self.de_loss() + self.data_loss()\n",
    "    \n",
    "    def model_call(self):\n",
    "        return self.model(self.domain)\n",
    "    \n",
    "    def plot_preds(self):\n",
    "        pred = self.model(self.domain)\n",
    "        plt.plot(self.domain.detach(),pred.detach()*(self.cp_max -self.cp_min) + self.cp_min)\n",
    "        plt.scatter(self.patient_data[0], self.patient_data[1])\n",
    "        plt.grid()\n",
    "        #plt.legend()\n",
    "    \n",
    "\n",
    "    def lbfgs_train(self):\n",
    "            self.model.train()    \n",
    "            for epoch in range(self.epochs):\n",
    "                def closure():\n",
    "                    self.lbfgs_optimizer.zero_grad()\n",
    "                    loss = self.combined_loss()\n",
    "                    loss.backward()\n",
    "                    return loss\n",
    "                self.lbfgs_optimizer.step(closure=closure)\n",
    "                print(f'Epoch {epoch}, training loss: {self.combined_loss()}')\n",
    "            self.plot_preds()\n",
    "    \n",
    "\n",
    "    def adam_train(self):\n",
    "            steps = 1000\n",
    "            for epoch in range(self.epochs):\n",
    "                for step in range(steps):\n",
    "                    def closure():\n",
    "                        self.adam_optimizer.zero_grad()\n",
    "                        loss = self.combined_loss()\n",
    "                        loss.backward()\n",
    "                        return loss\n",
    "                    self.adam_optimizer.step(closure=closure)\n",
    "                print(f'Epoch {epoch}, training loss: {self.combined_loss().item()} de_loss: {self.de_loss().item()}, data_loss {self.data_loss()}, sq {self.sq_param.item()} sv: {self.sv_param.item()} sc: {self.sc_param.item()} , Q: {(self.Q_ref*self.sq_param).item()}')\n",
    "            self.plot_preds()"
   ]
  },
  {
   "cell_type": "code",
   "execution_count": null,
   "metadata": {},
   "outputs": [],
   "source": []
  },
  {
   "cell_type": "code",
   "execution_count": null,
   "metadata": {},
   "outputs": [],
   "source": [
    "test = blood_1pinn(epochs = 20, data = (patient4,p4_sim, vref4[7], qref4),params = {'sv': 1., 'sc':1.}, nde = 100, gamma=False)\n"
   ]
  },
  {
   "cell_type": "code",
   "execution_count": null,
   "metadata": {},
   "outputs": [],
   "source": [
    "# Model configs:\n",
    "\n",
    "qcv ={'sq':1., 'sv':1. , 'sc':1.}\n",
    "qv = {'sq':1., 'sv':1. }\n",
    "qc = {'sq':1. , 'sc':1.}\n",
    "q = {'sq':1.}\n",
    "vc = {'sv':1. , 'sc':1.}\n",
    "c = { 'sc':1.}\n",
    "v = {'sv':1.}\n",
    "no_params = {}\n",
    "\n"
   ]
  },
  {
   "cell_type": "code",
   "execution_count": null,
   "metadata": {},
   "outputs": [],
   "source": [
    "p1_data = (patient1,p1_sim, vref1[7], qref1)\n",
    "\n",
    "p1_none = blood_1pinn(epochs = 20, data = p1_data,params =no_params, nde = 100, gamma=False)"
   ]
  },
  {
   "cell_type": "code",
   "execution_count": null,
   "metadata": {},
   "outputs": [],
   "source": [
    "p1_none.adam_train()\n",
    "# plt.gca().axes.get_yaxis().set_visible(False)\n",
    "# plt.gca().axes.get_xaxis().set_visible(False)"
   ]
  },
  {
   "cell_type": "markdown",
   "metadata": {},
   "source": [
    "### Patient 1"
   ]
  },
  {
   "cell_type": "code",
   "execution_count": null,
   "metadata": {},
   "outputs": [],
   "source": [
    "p1_data = (patient1,p1_sim, vref1[7], qref1)\n",
    "\n",
    "p1_none = blood_1pinn(epochs = 20, data = p1_data,params =no_params, nde = 100, gamma=False)\n",
    "p1_none_gamma = blood_1pinn(epochs = 20, data = p1_data,params =no_params, nde = 100, gamma=True)\n",
    "\n",
    "p1_qcv = blood_1pinn(epochs = 20, data = p1_data,params =qcv, nde = 100, gamma=False)\n",
    "p1_qcv_gamma = blood_1pinn(epochs = 20, data = p1_data,params =qcv, nde = 100, gamma=True)\n",
    "\n",
    "p1_qv = blood_1pinn(epochs = 20, data = p1_data,params =qv, nde = 100, gamma=False)\n",
    "p1_qv_gamma = blood_1pinn(epochs = 20, data = p1_data,params =qv, nde = 100, gamma=True)\n",
    "\n",
    "p1_qc = blood_1pinn(epochs = 20, data = p1_data,params =qc, nde = 100, gamma=False)\n",
    "p1_qc_gamma = blood_1pinn(epochs = 20, data = p1_data,params =qc, nde = 100, gamma=True)\n",
    "\n",
    "p1_q = blood_1pinn(epochs = 20, data = p1_data,params =q, nde = 100, gamma=False)\n",
    "p1_q_gamma = blood_1pinn(epochs = 20, data = p1_data,params =q, nde = 100, gamma=True)\n",
    "\n",
    "p1_vc = blood_1pinn(epochs = 20, data = p1_data,params =vc, nde = 100, gamma=False)\n",
    "p1_vc_gamma = blood_1pinn(epochs = 20, data = p1_data,params =vc, nde = 100, gamma=True)\n",
    "\n",
    "p1_c = blood_1pinn(epochs = 20, data = p1_data,params =c, nde = 100, gamma=False)\n",
    "p1_c_gamma = blood_1pinn(epochs = 20, data = p1_data,params =c, nde = 100, gamma=True)\n",
    "\n",
    "p1_v = blood_1pinn(epochs = 20, data = p1_data,params =v, nde = 100, gamma=False)\n",
    "p1_v_gamma = blood_1pinn(epochs = 20, data = p1_data,params =v, nde = 100, gamma=True)\n"
   ]
  },
  {
   "cell_type": "code",
   "execution_count": null,
   "metadata": {},
   "outputs": [],
   "source": [
    "p1_none.adam_train()"
   ]
  },
  {
   "cell_type": "code",
   "execution_count": null,
   "metadata": {},
   "outputs": [],
   "source": [
    "p1_none_gamma.adam_train()\n",
    "\n"
   ]
  },
  {
   "cell_type": "markdown",
   "metadata": {},
   "source": []
  },
  {
   "cell_type": "code",
   "execution_count": null,
   "metadata": {},
   "outputs": [],
   "source": [
    "p1_qcv.adam_train()\n"
   ]
  },
  {
   "cell_type": "code",
   "execution_count": null,
   "metadata": {},
   "outputs": [],
   "source": [
    "p1_qcv_gamma.adam_train()\n",
    "\n"
   ]
  },
  {
   "cell_type": "code",
   "execution_count": null,
   "metadata": {},
   "outputs": [],
   "source": [
    "p1_qv.adam_train()\n"
   ]
  },
  {
   "cell_type": "code",
   "execution_count": null,
   "metadata": {},
   "outputs": [],
   "source": [
    "p1_qv_gamma.adam_train()"
   ]
  },
  {
   "cell_type": "code",
   "execution_count": null,
   "metadata": {},
   "outputs": [],
   "source": [
    "p1_qc.adam_train()\n"
   ]
  },
  {
   "cell_type": "code",
   "execution_count": null,
   "metadata": {},
   "outputs": [],
   "source": [
    "p1_qc_gamma.adam_train()"
   ]
  },
  {
   "cell_type": "code",
   "execution_count": null,
   "metadata": {},
   "outputs": [],
   "source": [
    "\n",
    "p1_q.adam_train()\n"
   ]
  },
  {
   "cell_type": "code",
   "execution_count": null,
   "metadata": {},
   "outputs": [],
   "source": [
    "p1_q_gamma.adam_train()\n",
    "\n"
   ]
  },
  {
   "cell_type": "code",
   "execution_count": null,
   "metadata": {},
   "outputs": [],
   "source": [
    "p1_vc.adam_train()\n"
   ]
  },
  {
   "cell_type": "code",
   "execution_count": null,
   "metadata": {},
   "outputs": [],
   "source": [
    "p1_vc_gamma.adam_train()"
   ]
  },
  {
   "cell_type": "code",
   "execution_count": null,
   "metadata": {},
   "outputs": [],
   "source": [
    "\n",
    "p1_c.adam_train()\n"
   ]
  },
  {
   "cell_type": "code",
   "execution_count": null,
   "metadata": {},
   "outputs": [],
   "source": [
    "p1_c_gamma.adam_train()\n",
    "\n"
   ]
  },
  {
   "cell_type": "code",
   "execution_count": null,
   "metadata": {},
   "outputs": [],
   "source": [
    "p1_v.adam_train()\n"
   ]
  },
  {
   "cell_type": "code",
   "execution_count": null,
   "metadata": {},
   "outputs": [],
   "source": [
    "p1_v_gamma.adam_train()"
   ]
  },
  {
   "cell_type": "code",
   "execution_count": null,
   "metadata": {},
   "outputs": [],
   "source": []
  }
 ],
 "metadata": {
  "interpreter": {
   "hash": "f156400fa5bf62ecf9eae4d0e9a2b9bd51e0e8b2d2eed7985594abe1521fe027"
  },
  "kernelspec": {
   "display_name": "Python 3.10.3 64-bit ('torchenv': conda)",
   "language": "python",
   "name": "python3"
  },
  "language_info": {
   "codemirror_mode": {
    "name": "ipython",
    "version": 3
   },
   "file_extension": ".py",
   "mimetype": "text/x-python",
   "name": "python",
   "nbconvert_exporter": "python",
   "pygments_lexer": "ipython3",
   "version": "3.10.3"
  },
  "orig_nbformat": 4
 },
 "nbformat": 4,
 "nbformat_minor": 2
}
